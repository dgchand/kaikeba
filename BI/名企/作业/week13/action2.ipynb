{
 "cells": [
  {
   "cell_type": "markdown",
   "metadata": {},
   "source": [
    "# Action2\t\"多辆车的路径规划 VRP：\n",
    "\n",
    "条件：经过中国33个城市，一共4辆车，每辆车最大行驶10000公里\n",
    "\n",
    "目标：使得每辆车的行驶里程数更接近\n",
    "\n",
    "需要注意：\n",
    "\n",
    "1）在VRP问题中，路径上给点赋的index和点实际的index不一样，需要使用IndexToNode方法进行转换才能得到实际的index\n",
    "\"\t\t\t\n",
    "\n",
    "\"1、完成带有约束条件的VRP问题（20points）\n",
    "\n",
    "2、结果正确（10points）\""
   ]
  },
  {
   "cell_type": "code",
   "execution_count": 1,
   "metadata": {},
   "outputs": [
    {
     "data": {
      "text/html": [
       "<div>\n",
       "<style scoped>\n",
       "    .dataframe tbody tr th:only-of-type {\n",
       "        vertical-align: middle;\n",
       "    }\n",
       "\n",
       "    .dataframe tbody tr th {\n",
       "        vertical-align: top;\n",
       "    }\n",
       "\n",
       "    .dataframe thead th {\n",
       "        text-align: right;\n",
       "    }\n",
       "</style>\n",
       "<table border=\"1\" class=\"dataframe\">\n",
       "  <thead>\n",
       "    <tr style=\"text-align: right;\">\n",
       "      <th></th>\n",
       "      <th>name</th>\n",
       "      <th>location</th>\n",
       "    </tr>\n",
       "  </thead>\n",
       "  <tbody>\n",
       "    <tr>\n",
       "      <th>0</th>\n",
       "      <td>北京</td>\n",
       "      <td>116.403039,39.914909</td>\n",
       "    </tr>\n",
       "    <tr>\n",
       "      <th>1</th>\n",
       "      <td>天津</td>\n",
       "      <td>117.216419,39.143831</td>\n",
       "    </tr>\n",
       "    <tr>\n",
       "      <th>2</th>\n",
       "      <td>哈尔滨</td>\n",
       "      <td>126.637622,45.766187</td>\n",
       "    </tr>\n",
       "    <tr>\n",
       "      <th>3</th>\n",
       "      <td>长春</td>\n",
       "      <td>125.330606,43.918866</td>\n",
       "    </tr>\n",
       "    <tr>\n",
       "      <th>4</th>\n",
       "      <td>沈阳</td>\n",
       "      <td>123.401674,41.800522</td>\n",
       "    </tr>\n",
       "  </tbody>\n",
       "</table>\n",
       "</div>"
      ],
      "text/plain": [
       "  name              location\n",
       "0   北京  116.403039,39.914909\n",
       "1   天津  117.216419,39.143831\n",
       "2  哈尔滨  126.637622,45.766187\n",
       "3   长春  125.330606,43.918866\n",
       "4   沈阳  123.401674,41.800522"
      ]
     },
     "execution_count": 1,
     "metadata": {},
     "output_type": "execute_result"
    }
   ],
   "source": [
    "import pandas as pd\n",
    "#from lzylearn import common_tools\n",
    "\n",
    "df = pd.read_excel('./cities.xlsx')\n",
    "df.head()"
   ]
  },
  {
   "cell_type": "code",
   "execution_count": 2,
   "metadata": {},
   "outputs": [],
   "source": [
    "#print(common_tools.compute_distance(1,2,2,1))"
   ]
  },
  {
   "cell_type": "code",
   "execution_count": 3,
   "metadata": {},
   "outputs": [
    {
     "name": "stdout",
     "output_type": "stream",
     "text": [
      "['北京', '天津', '哈尔滨', '长春', '沈阳', '石家庄', '呼和浩特', '太原', '上海', '杭州', '福州', '广州', '海口', '合肥', '郑州', '南京', '济南', '兰州', '银川', '西宁', '西安', '拉萨', '乌鲁木齐', '成都', '重庆', '南宁', '贵阳', '昆明', '武汉', '长沙', '南昌', '香港', '澳门']\n"
     ]
    }
   ],
   "source": [
    "city_list = df['name'].values.tolist()\n",
    "print(city_list)"
   ]
  },
  {
   "cell_type": "code",
   "execution_count": 1,
   "metadata": {},
   "outputs": [
    {
     "name": "stdout",
     "output_type": "stream",
     "text": [
      "总行驶里程: 736631 公里\n",
      "[[0, 7, 18, 19, 17, 22, 6], [0, 21], [0, 5, 20, 23, 24, 26, 27, 25, 12, 32, 11, 31, 30, 13, 16], [0, 14, 28, 29, 10, 9, 8, 15, 1, 4, 2, 3]]\n",
      "[6341, 7096, 6749, 6845]\n"
     ]
    }
   ],
   "source": [
    "import pandas as pd\n",
    "from ortools.constraint_solver import routing_enums_pb2\n",
    "from ortools.constraint_solver import pywrapcp\n",
    "\n",
    "class tsp(object):\n",
    "    def __init__(self, city_names=None, num_vehicles=1):\n",
    "        \n",
    "        self.df = pd.read_excel('./cities.xlsx')\n",
    "        self.all_city = self.df['name'].values\n",
    "        self.num_vehicles = num_vehicles\n",
    "        \n",
    "        if city_names is not None:\n",
    "            self.city_names = city_names\n",
    "            self.df = self.df[self.df['name'].isin(city_names)]\n",
    "        else:\n",
    "            self.city_names = self.all_city\n",
    "        \n",
    "    def create_data_model(self):\n",
    "        data = {}\n",
    "        temp = pd.read_excel('./distance.xlsx', index_col=0)\n",
    "        #print(temp.head())\n",
    "        temp = temp[(temp.index.isin(self.city_names))][self.city_names]\n",
    "        data['distance_matrix'] = temp.values / 1000\n",
    "        data['num_vehicles'] = self.num_vehicles\n",
    "        data['depot'] = 0\n",
    "        return data\n",
    "    \n",
    "    def get_solution(self, manager, routing, solution):\n",
    "        print('总行驶里程: {} 公里'.format(solution.ObjectiveValue()))\n",
    "        \n",
    "        distance_list = []\n",
    "        route_list = []\n",
    "        \n",
    "        for vehicle_id in range(self.num_vehicles):\n",
    "            \n",
    "            route_distance = 0\n",
    "            route = []\n",
    "            \n",
    "            index = routing.Start(vehicle_id)\n",
    "            \n",
    "            while not routing.IsEnd(index):\n",
    "                #plan_output += ' {} ->'.format(city_names[manager.IndexToNode(index)])\n",
    "                index_show = manager.IndexToNode(index)\n",
    "                route.append(index_show)\n",
    "                previous_index = index\n",
    "                index = solution.Value(routing.NextVar(index))\n",
    "                route_distance += routing.GetArcCostForVehicle(previous_index, index, 0)\n",
    "            #plan_output += city_names[manager.IndexToNode(index)]\n",
    "            #print(plan_output)\n",
    "            #print('{}公里'.format(route_distance))\n",
    "            route_list.append(route)\n",
    "            distance_list.append(route_distance)\n",
    "                \n",
    "        return route_list, distance_list\n",
    "    \n",
    "    def add_distance_dimension(self, routing, transit_callback_index) :\n",
    "        dimension_name = 'Distance'\n",
    "        routing.AddDimension(\n",
    "            transit_callback_index,\n",
    "            0,\n",
    "            10000,\n",
    "            True,\n",
    "            dimension_name)\n",
    "        distance_dimension = routing.GetDimensionOrDie(dimension_name)\n",
    "        distance_dimension.SetGlobalSpanCostCoefficient(100)\n",
    "    \n",
    "    def work(self):\n",
    "        data = self.create_data_model()\n",
    " \n",
    "        # 创建路线管理，tsp_size（城市数量）, num_vehicles（车的数量）, depot（原点）\n",
    "        manager = pywrapcp.RoutingIndexManager(len(data['distance_matrix']),\n",
    "                                           data['num_vehicles'], data['depot'])\n",
    " \n",
    "        # 创建 Routing Model.\n",
    "        routing = pywrapcp.RoutingModel(manager)\n",
    "\n",
    "        # 计算两点之间的距离\n",
    "        def distance_callback(from_index, to_index):\n",
    "            # Convert from routing variable Index to distance matrix NodeIndex.\n",
    "            from_node = manager.IndexToNode(from_index)\n",
    "            to_node = manager.IndexToNode(to_index)\n",
    "            return data['distance_matrix'][from_node][to_node]\n",
    "\n",
    "        transit_callback_index = routing.RegisterTransitCallback(distance_callback)\n",
    "\n",
    "        # Define cost of each arc.\n",
    "        routing.SetArcCostEvaluatorOfAllVehicles(transit_callback_index)\n",
    "        \n",
    "        self.add_distance_dimension(routing, transit_callback_index)\n",
    "        \n",
    "        # Setting first solution heuristic.\n",
    "        search_parameters = pywrapcp.DefaultRoutingSearchParameters()\n",
    "        search_parameters.first_solution_strategy = (\n",
    "            routing_enums_pb2.FirstSolutionStrategy.PATH_CHEAPEST_ARC)\n",
    "\n",
    "        # 求解路径规划\n",
    "        solution = routing.SolveWithParameters(search_parameters)\n",
    "        # 输出结果\n",
    "        #print('solution:',solution)\n",
    "        route,route_distance = self.get_solution(manager, routing, solution)\n",
    "           # print_solution(manager, routing, solution)\n",
    "        return route, route_distance\n",
    "\n",
    "if __name__ =='__main__': \n",
    "    \n",
    "    model = tsp(num_vehicles=4)\n",
    "    route, route_distance = model.work()\n",
    "    #model.create_data_model()\n",
    "    print(route)\n",
    "    print(route_distance)"
   ]
  },
  {
   "cell_type": "code",
   "execution_count": null,
   "metadata": {},
   "outputs": [],
   "source": []
  }
 ],
 "metadata": {
  "kernelspec": {
   "display_name": "Python 3",
   "language": "python",
   "name": "python3"
  },
  "language_info": {
   "codemirror_mode": {
    "name": "ipython",
    "version": 3
   },
   "file_extension": ".py",
   "mimetype": "text/x-python",
   "name": "python",
   "nbconvert_exporter": "python",
   "pygments_lexer": "ipython3",
   "version": "3.6.5"
  }
 },
 "nbformat": 4,
 "nbformat_minor": 2
}
