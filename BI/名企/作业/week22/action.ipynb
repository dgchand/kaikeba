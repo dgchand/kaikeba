{
 "cells": [
  {
   "attachments": {},
   "cell_type": "markdown",
   "metadata": {},
   "source": [
    "# Action\t\"Action（五子棋）：\n",
    "\n",
    "棋盘大小 10 * 10\n",
    "采用强化学习（策略价值网络），用AI训练五子棋AI\n",
    "\n",
    "请说明都有哪些模块，不同模块的原理\n",
    "\n",
    "\"\t\t\t\n",
    "\"1、说明有哪些模块（20points）\n",
    "\n",
    "2、不同模块的原理（30points）\"!\n"
   ]
  },
  {
   "attachments": {},
   "cell_type": "markdown",
   "metadata": {},
   "source": [
    "---\n",
    "AI = Policy Value Network + MCTS\n",
    "\n",
    "1、Policy Value Network，策略价值网络\n",
    "\n",
    "策略网络，输入当前的状态，神经网络输出在这个状态下采取每个动作的概率；\n",
    "\n",
    "价值网络，对于价值网络，当前局面的价值=对终局的估计。\n",
    "\n",
    "用来指导MCTS搜索并计算叶子节点\n",
    "\n",
    "\n",
    "\n",
    "2、MCTS，蒙特卡洛树搜索\n",
    "\n",
    "可以提供很好的策略改善，它的输入是个普通的策略（normal policy），我们可以通过MCTS得到一个更好的策略（good policy）输出\n",
    "通过MCTS完成自我对弈，从而更新策略网络\n",
    "\n",
    "树结构：树结构定义了一个可行解的解空间，每一个叶子节点到根节点的路径都对应了一个解（solution）；\n",
    "\n",
    "蒙特卡洛方法：MSTC不需要事先给定打标样本，随机统计方法充当了驱动力的作用，通过随机统计实验获取观测结果\n",
    "\n"
   ]
  },
  {
   "cell_type": "code",
   "execution_count": null,
   "metadata": {},
   "outputs": [],
   "source": []
  }
 ],
 "metadata": {
  "kernelspec": {
   "display_name": "Python 3",
   "language": "python",
   "name": "python3"
  },
  "language_info": {
   "codemirror_mode": {
    "name": "ipython",
    "version": 3
   },
   "file_extension": ".py",
   "mimetype": "text/x-python",
   "name": "python",
   "nbconvert_exporter": "python",
   "pygments_lexer": "ipython3",
   "version": "3.6.5"
  }
 },
 "nbformat": 4,
 "nbformat_minor": 2
}
