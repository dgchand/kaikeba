{
 "cells": [
  {
   "attachments": {},
   "cell_type": "markdown",
   "metadata": {},
   "source": [
    "# Action1\t\n",
    "\"使用MinHashLSHForest对微博新闻句子进行检索 weibo.txt\n",
    "针对某句话进行Query，查找Top-3相似的句子\"\t\n",
    "\n",
    "\"1、完成代码（30points）\n",
    "\n",
    "2、使用MinHashLSHForest工具对MinHash进行index，并完成Query Top-K，代码正确（30points）\"\n"
   ]
  },
  {
   "cell_type": "code",
   "execution_count": 10,
   "metadata": {},
   "outputs": [],
   "source": [
    "#!pip install datasketch"
   ]
  },
  {
   "cell_type": "code",
   "execution_count": 9,
   "metadata": {},
   "outputs": [
    {
     "name": "stdout",
     "output_type": "stream",
     "text": [
      "1 0.9609375 ​国足输给叙利亚之后，里皮辞职\n",
      "34 0.4453125 国足输给叙利亚后，里皮坐不住了，直接辞职了难怪有网友说，爱护生命，远离男足\n",
      "37 0.578125 国足昨晚1-2输给叙利亚，赛后主帅里皮宣布辞职\n",
      "7 0.2265625 辞职后的里皮没有改变原有的计划——赛后第二天他会从迪拜直接飞回意大利\n",
      "28 0.1640625 尤其是最后一句话，看好中国队的潜力，这句话真是太鼓舞人心啦\n",
      "Top 5 邻居 [1, 34, 37, 7, 28]\n"
     ]
    }
   ],
   "source": [
    "from datasketch import MinHash, MinHashLSH, MinHashLSHForest\n",
    "from sklearn.feature_extraction.text import TfidfVectorizer\n",
    "import jieba.posseg as pseg\n",
    "import re\n",
    "\n",
    "# 读取文件\n",
    "f = open('./weibos.txt', 'r', encoding='UTF-8')\n",
    "text = f.read()\n",
    "# 以句号，叹号，问号作为分隔，去掉\\n换行符号\n",
    "sentences = re.split('[。！？]', text.replace('\\n', ''))\n",
    "\n",
    "# 最后一行如果为空，则删除\n",
    "if sentences[len(sentences)-1] == '':\n",
    "    sentences.pop()\n",
    "#print(sentences)\n",
    "#print(len(sentences))\n",
    "\n",
    "# 将item_text进行分词\n",
    "def get_item_str(item_text):\n",
    "    item_str = \"\" \n",
    "    item=(pseg.cut(item_text)) \n",
    "    for i in list(item):\n",
    "        #去掉停用词\n",
    "        if i.word not in list(stop):  \n",
    "            item_str += i.word\n",
    "            #tfidf_vectorizer.fit_transform的输入需要空格分隔的单词\n",
    "            item_str += \" \"\n",
    "    return item_str\n",
    "# 对item_str创建MinHash\n",
    "def get_minhash(item_str):\n",
    "    temp = MinHash()\n",
    "    for d in item_str:\n",
    "        temp.update(d.encode('utf8'))\n",
    "    return temp\n",
    "\n",
    "# 设置停用词\n",
    "stop = [line.strip().decode('utf-8') for line in open('stopword.txt').readlines()]\n",
    "# 得到分词后的documents\n",
    "documents = []\n",
    "for item_text in sentences:\n",
    "    # 将item_text进行分词\n",
    "    item_str = get_item_str(item_text)\n",
    "    documents.append(item_str)\n",
    "\n",
    "# 创建LSH Forest及MinHash对象\n",
    "minhash_list = []\n",
    "forest = MinHashLSHForest()\n",
    "for i in range(len(documents)):\n",
    "    #得到train_documents[i]的MinHash\n",
    "    temp = get_minhash(documents[i])\n",
    "    minhash_list.append(temp)\n",
    "    forest.add(i, temp)\n",
    "# index所有key，以便可以进行检索\n",
    "forest.index()\n",
    "\n",
    "query = '国足输给叙利亚之后，里皮辞职'\n",
    "# 将item_text进行分词\n",
    "item_str = get_item_str(query)\n",
    "# 得到item_str的MinHash\n",
    "minhash_query = get_minhash(item_str)\n",
    "\n",
    "# 查询forest中与m1相似的Top-K个邻居\n",
    "result = forest.query(minhash_query, 5)\n",
    "for i in range(len(result)):\n",
    "    print(result[i], minhash_query.jaccard(minhash_list[result[i]]), documents[result[i]].replace(' ', ''))\n",
    "print(\"Top 5 邻居\", result)"
   ]
  }
 ],
 "metadata": {
  "kernelspec": {
   "display_name": "Python 3",
   "language": "python",
   "name": "python3"
  },
  "language_info": {
   "codemirror_mode": {
    "name": "ipython",
    "version": 3
   },
   "file_extension": ".py",
   "mimetype": "text/x-python",
   "name": "python",
   "nbconvert_exporter": "python",
   "pygments_lexer": "ipython3",
   "version": "3.6.5"
  }
 },
 "nbformat": 4,
 "nbformat_minor": 2
}
